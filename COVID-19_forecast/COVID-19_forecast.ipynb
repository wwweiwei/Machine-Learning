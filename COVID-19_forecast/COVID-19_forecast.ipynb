{
  "nbformat": 4,
  "nbformat_minor": 0,
  "metadata": {
    "colab": {
      "name": "HW1_COVID-19_prediction.ipynb",
      "provenance": []
    },
    "kernelspec": {
      "name": "python3",
      "display_name": "Python 3"
    }
  },
  "cells": [
    {
      "cell_type": "code",
      "metadata": {
        "id": "_afIazK4mo5h",
        "outputId": "43e75b6b-1c82-407b-894f-2abd833917c1",
        "colab": {
          "base_uri": "https://localhost:8080/",
          "height": 275
        }
      },
      "source": [
        "!pip install pmdarima\n",
        "from pandas import read_csv\n",
        "from pandas import datetime\n",
        "import pandas as pd\n",
        "from matplotlib import pyplot as plt\n",
        "from sklearn.metrics import mean_squared_error\n",
        "from pandas.plotting import autocorrelation_plot\n",
        "from pmdarima.arima import auto_arima\n",
        "from pmdarima.arima import ADFTest\n",
        "# pd.show_versions()"
      ],
      "execution_count": null,
      "outputs": [
        {
          "output_type": "stream",
          "text": [
            "Requirement already satisfied: pmdarima in /usr/local/lib/python3.6/dist-packages (1.7.1)\n",
            "Requirement already satisfied: joblib>=0.11 in /usr/local/lib/python3.6/dist-packages (from pmdarima) (0.16.0)\n",
            "Requirement already satisfied: numpy>=1.17.3 in /usr/local/lib/python3.6/dist-packages (from pmdarima) (1.18.5)\n",
            "Requirement already satisfied: setuptools<50.0.0 in /usr/local/lib/python3.6/dist-packages (from pmdarima) (49.6.0)\n",
            "Requirement already satisfied: urllib3 in /usr/local/lib/python3.6/dist-packages (from pmdarima) (1.24.3)\n",
            "Requirement already satisfied: scipy>=1.3.2 in /usr/local/lib/python3.6/dist-packages (from pmdarima) (1.4.1)\n",
            "Requirement already satisfied: scikit-learn>=0.22 in /usr/local/lib/python3.6/dist-packages (from pmdarima) (0.22.2.post1)\n",
            "Requirement already satisfied: statsmodels<0.12,>=0.11 in /usr/local/lib/python3.6/dist-packages (from pmdarima) (0.11.1)\n",
            "Requirement already satisfied: pandas>=0.19 in /usr/local/lib/python3.6/dist-packages (from pmdarima) (1.1.2)\n",
            "Requirement already satisfied: Cython<0.29.18,>=0.29 in /usr/local/lib/python3.6/dist-packages (from pmdarima) (0.29.17)\n",
            "Requirement already satisfied: patsy>=0.5 in /usr/local/lib/python3.6/dist-packages (from statsmodels<0.12,>=0.11->pmdarima) (0.5.1)\n",
            "Requirement already satisfied: python-dateutil>=2.7.3 in /usr/local/lib/python3.6/dist-packages (from pandas>=0.19->pmdarima) (2.8.1)\n",
            "Requirement already satisfied: pytz>=2017.2 in /usr/local/lib/python3.6/dist-packages (from pandas>=0.19->pmdarima) (2018.9)\n",
            "Requirement already satisfied: six in /usr/local/lib/python3.6/dist-packages (from patsy>=0.5->statsmodels<0.12,>=0.11->pmdarima) (1.15.0)\n"
          ],
          "name": "stdout"
        }
      ]
    },
    {
      "cell_type": "code",
      "metadata": {
        "id": "WdzmHOkLm2bv"
      },
      "source": [
        "## read input\n",
        "data = read_csv('/content/input')\n",
        "\n",
        "## pre-processing\n",
        "data.set_index('dateRep',inplace=True)\n",
        "data = data.drop(['day','month','year','deaths','geoId','countryterritoryCode','popData2019','continentExp','Cumulative_number_for_14_days_of_COVID-19_cases_per_100000'], axis=1)\n",
        "clean_data = data[::-1]\n",
        "clean_data.to_csv('/content/clean_data' , index=True )\n",
        "\n",
        "for i in range(0,47480):\n",
        "  if clean_data.iloc[i,0]<0:\n",
        "    clean_data.iloc[i,0] = 0\n",
        "\n",
        "d = data.groupby(['countriesAndTerritories'])\n",
        "countries_size = d.size().to_frame()\n",
        "countries_size.to_csv('/content/countries_size' , index=True )"
      ],
      "execution_count": null,
      "outputs": []
    },
    {
      "cell_type": "code",
      "metadata": {
        "id": "NgcWVHOwkQzE",
        "outputId": "1aa323e7-34dd-4239-ebde-41489685d06f",
        "colab": {
          "base_uri": "https://localhost:8080/",
          "height": 1000
        }
      },
      "source": [
        "## model\n",
        "\n",
        "countries_size = read_csv('/content/countries_size')\n",
        "\n",
        "# initial ans dataframe\n",
        "name_list = []\n",
        "for i in range(0,210):\n",
        "  ## 159 Russia, 78 Greece, 92 India, 201 USA, 193 Turkey\n",
        "  if (i==159 or i==78 or i==92 or i==201 or i==193):\n",
        "    name = countries_size.iloc[i,0]\n",
        "    name_list.append(name)  \n",
        "ans = pd.DataFrame(columns=name_list)\n",
        "\n",
        "# model selection\n",
        "for i in range(0,210):\n",
        "\n",
        "  ## 159 Russia, 78 Greece, 92 India, 201 USA, 193 Turkey\n",
        "  if (i==159 or i==78 or i==92 or i==201 or i==193):\n",
        "    name = countries_size.iloc[i,0]\n",
        "    size = int(countries_size.iloc[i,1])\n",
        "\n",
        "    one_country_data = clean_data[clean_data['countriesAndTerritories'] == name]\n",
        "    one_country_data = one_country_data.drop(['countriesAndTerritories'], axis=1)\n",
        "\n",
        "    # adf_test = ADFTest(alpha = 0.05)\n",
        "    # check = adf_test.should_diff(one_country_data)\n",
        "\n",
        "    # train = one_country_data[:size-7]\n",
        "    # valid = one_country_data[-7:]\n",
        "\n",
        "    train = one_country_data[0:size]\n",
        "    valid = one_country_data[-7:]\n",
        "\n",
        "    if (i==0 or i==10 or i==12 or i==16 or i==19 or i==25 or i==45 or i==47 or i==48 or i==59 or i==60 or i==65 or i==67 or i==84 or i==86 or i==87 or i==89 or i==90 or i==96 or i==98 or i==100 or i==103 or i==115 or i==117 or i==118 or i==125 or i==127 or i==133 or i==147 or i==150 or i==152 or i==155 or i==156 or i==167 or i==175 or i==176 or i==182 or i==187 or i==188 or i==193 or i==195 or i==198 or i==204):\n",
        "      model = auto_arima(train,trace=True,start_p=0,start_q=0,start_P=0,start_Q=0,max_d=10,max_P=10,max_Q =10,information_criterion='bic' )\n",
        "    elif(i==92 or i==94 or i==99 or i==137 or i==145 or i==166 or i==177 or i==181 or i==184):\n",
        "      model = auto_arima(train,trace=True)\n",
        "    else:\n",
        "      model = auto_arima(train,trace=True,start_p=0,start_q=0,start_P=0,start_Q=0,max_d=10,max_P=10,max_Q =10)\n",
        "\n",
        "    print(model.summary())\n",
        "\n",
        "    prediction = pd.DataFrame(model.predict(n_periods=7),index=['0','1','2','3','4','5','6'])\n",
        "\n",
        "    prediction.columns = ['predicted_cases']\n",
        "    prediction['predicted_cases'] = prediction['predicted_cases'].round(0).astype('int')\n",
        "    df = prediction['predicted_cases']\n",
        "\n",
        "    case_list = []\n",
        "   \n",
        "    ## plot\n",
        "    # print(\"COVID-19 Forecast\")\n",
        "    # print(name)\n",
        "    # plt.plot(train, label='Train')\n",
        "    # plt.plot(valid, label='Valid')\n",
        "    # plt.plot(prediction, label='Predict')\n",
        "    # plt.legend(loc='Left corner')\n",
        "    # plt.show()\n",
        "\n",
        "    for x in range(0,7):\n",
        "      case = prediction.iloc[x,0]\n",
        "      case = int(case)\n",
        "      if case<0:\n",
        "        case = 0\n",
        "      \n",
        "      ## evaluate function\n",
        "      # if valid.iloc[x,0]!=0:\n",
        "      #   error = error + (abs(valid.iloc[x,0]-case)/valid.iloc[x,0])\n",
        "      \n",
        "      case_list.append(case) \n",
        "    ans[name] = case_list\n",
        "\n",
        "ans = ans.rename(index={0:'10/9',1:'10/10',2:'10/11',3:'10/12',4:'10/13',5:'10/14',6:'10/15'})"
      ],
      "execution_count": null,
      "outputs": [
        {
          "output_type": "stream",
          "text": [
            "Performing stepwise search to minimize aic\n",
            " ARIMA(0,1,0)(0,0,0)[0] intercept   : AIC=2888.611, Time=0.01 sec\n",
            " ARIMA(1,1,0)(0,0,0)[0] intercept   : AIC=2856.176, Time=0.05 sec\n",
            " ARIMA(0,1,1)(0,0,0)[0] intercept   : AIC=2815.723, Time=0.10 sec\n",
            " ARIMA(0,1,0)(0,0,0)[0]             : AIC=2886.948, Time=0.01 sec\n",
            " ARIMA(1,1,1)(0,0,0)[0] intercept   : AIC=2809.221, Time=0.18 sec\n",
            " ARIMA(2,1,1)(0,0,0)[0] intercept   : AIC=2809.941, Time=0.24 sec\n",
            " ARIMA(1,1,2)(0,0,0)[0] intercept   : AIC=2810.629, Time=0.26 sec\n",
            " ARIMA(0,1,2)(0,0,0)[0] intercept   : AIC=2808.635, Time=0.22 sec\n",
            " ARIMA(0,1,3)(0,0,0)[0] intercept   : AIC=2810.619, Time=0.34 sec\n",
            " ARIMA(1,1,3)(0,0,0)[0] intercept   : AIC=2812.601, Time=0.35 sec\n",
            " ARIMA(0,1,2)(0,0,0)[0]             : AIC=2811.224, Time=0.07 sec\n",
            "\n",
            "Best model:  ARIMA(0,1,2)(0,0,0)[0] intercept\n",
            "Total fit time: 1.847 seconds\n",
            "                               SARIMAX Results                                \n",
            "==============================================================================\n",
            "Dep. Variable:                      y   No. Observations:                  281\n",
            "Model:               SARIMAX(0, 1, 2)   Log Likelihood               -1400.318\n",
            "Date:                Mon, 12 Oct 2020   AIC                           2808.635\n",
            "Time:                        10:33:05   BIC                           2823.175\n",
            "Sample:                             0   HQIC                          2814.467\n",
            "                                - 281                                         \n",
            "Covariance Type:                  opg                                         \n",
            "==============================================================================\n",
            "                 coef    std err          z      P>|z|      [0.025      0.975]\n",
            "------------------------------------------------------------------------------\n",
            "intercept      1.2896      0.722      1.785      0.074      -0.126       2.705\n",
            "ma.L1         -0.5722      0.041    -13.980      0.000      -0.652      -0.492\n",
            "ma.L2         -0.1631      0.035     -4.599      0.000      -0.233      -0.094\n",
            "sigma2      1289.4092     70.130     18.386      0.000    1151.956    1426.862\n",
            "===================================================================================\n",
            "Ljung-Box (Q):                      179.16   Jarque-Bera (JB):               676.52\n",
            "Prob(Q):                              0.00   Prob(JB):                         0.00\n",
            "Heteroskedasticity (H):              13.25   Skew:                             1.22\n",
            "Prob(H) (two-sided):                  0.00   Kurtosis:                        10.22\n",
            "===================================================================================\n",
            "\n",
            "Warnings:\n",
            "[1] Covariance matrix calculated using the outer product of gradients (complex-step).\n",
            "Performing stepwise search to minimize aic\n"
          ],
          "name": "stdout"
        },
        {
          "output_type": "stream",
          "text": [
            "/usr/local/lib/python3.6/dist-packages/statsmodels/base/model.py:568: ConvergenceWarning: Maximum Likelihood optimization failed to converge. Check mle_retvals\n",
            "  \"Check mle_retvals\", ConvergenceWarning)\n"
          ],
          "name": "stderr"
        },
        {
          "output_type": "stream",
          "text": [
            " ARIMA(2,2,2)(0,0,0)[0]             : AIC=5223.022, Time=0.62 sec\n",
            " ARIMA(0,2,0)(0,0,0)[0]             : AIC=5482.543, Time=0.01 sec\n",
            " ARIMA(1,2,0)(0,0,0)[0]             : AIC=5448.592, Time=0.02 sec\n",
            " ARIMA(0,2,1)(0,0,0)[0]             : AIC=inf, Time=0.10 sec\n",
            " ARIMA(1,2,2)(0,0,0)[0]             : AIC=inf, Time=0.25 sec\n",
            " ARIMA(2,2,1)(0,0,0)[0]             : AIC=inf, Time=0.30 sec\n"
          ],
          "name": "stdout"
        },
        {
          "output_type": "stream",
          "text": [
            "/usr/local/lib/python3.6/dist-packages/statsmodels/tsa/statespace/sarimax.py:963: UserWarning: Non-stationary starting autoregressive parameters found. Using zeros as starting parameters.\n",
            "  warn('Non-stationary starting autoregressive parameters'\n",
            "/usr/local/lib/python3.6/dist-packages/statsmodels/tsa/statespace/sarimax.py:975: UserWarning: Non-invertible starting MA parameters found. Using zeros as starting parameters.\n",
            "  warn('Non-invertible starting MA parameters found.'\n",
            "/usr/local/lib/python3.6/dist-packages/statsmodels/base/model.py:568: ConvergenceWarning: Maximum Likelihood optimization failed to converge. Check mle_retvals\n",
            "  \"Check mle_retvals\", ConvergenceWarning)\n",
            "/usr/local/lib/python3.6/dist-packages/statsmodels/tsa/statespace/sarimax.py:975: UserWarning: Non-invertible starting MA parameters found. Using zeros as starting parameters.\n",
            "  warn('Non-invertible starting MA parameters found.'\n"
          ],
          "name": "stderr"
        },
        {
          "output_type": "stream",
          "text": [
            " ARIMA(3,2,2)(0,0,0)[0]             : AIC=inf, Time=0.62 sec\n",
            " ARIMA(2,2,3)(0,0,0)[0]             : AIC=inf, Time=0.80 sec\n",
            " ARIMA(1,2,1)(0,0,0)[0]             : AIC=inf, Time=0.21 sec\n"
          ],
          "name": "stdout"
        },
        {
          "output_type": "stream",
          "text": [
            "/usr/local/lib/python3.6/dist-packages/statsmodels/tsa/statespace/sarimax.py:975: UserWarning: Non-invertible starting MA parameters found. Using zeros as starting parameters.\n",
            "  warn('Non-invertible starting MA parameters found.'\n"
          ],
          "name": "stderr"
        },
        {
          "output_type": "stream",
          "text": [
            " ARIMA(1,2,3)(0,0,0)[0]             : AIC=5225.326, Time=0.56 sec\n",
            " ARIMA(3,2,1)(0,0,0)[0]             : AIC=inf, Time=0.46 sec\n"
          ],
          "name": "stdout"
        },
        {
          "output_type": "stream",
          "text": [
            "/usr/local/lib/python3.6/dist-packages/statsmodels/tsa/statespace/sarimax.py:975: UserWarning: Non-invertible starting MA parameters found. Using zeros as starting parameters.\n",
            "  warn('Non-invertible starting MA parameters found.'\n",
            "/usr/local/lib/python3.6/dist-packages/statsmodels/base/model.py:568: ConvergenceWarning: Maximum Likelihood optimization failed to converge. Check mle_retvals\n",
            "  \"Check mle_retvals\", ConvergenceWarning)\n"
          ],
          "name": "stderr"
        },
        {
          "output_type": "stream",
          "text": [
            " ARIMA(3,2,3)(0,0,0)[0]             : AIC=inf, Time=0.93 sec\n"
          ],
          "name": "stdout"
        },
        {
          "output_type": "stream",
          "text": [
            "/usr/local/lib/python3.6/dist-packages/statsmodels/base/model.py:568: ConvergenceWarning: Maximum Likelihood optimization failed to converge. Check mle_retvals\n",
            "  \"Check mle_retvals\", ConvergenceWarning)\n"
          ],
          "name": "stderr"
        },
        {
          "output_type": "stream",
          "text": [
            " ARIMA(2,2,2)(0,0,0)[0] intercept   : AIC=5225.311, Time=0.81 sec\n",
            "\n",
            "Best model:  ARIMA(2,2,2)(0,0,0)[0]          \n",
            "Total fit time: 5.708 seconds\n",
            "                               SARIMAX Results                                \n",
            "==============================================================================\n",
            "Dep. Variable:                      y   No. Observations:                  282\n",
            "Model:               SARIMAX(2, 2, 2)   Log Likelihood               -2606.511\n",
            "Date:                Mon, 12 Oct 2020   AIC                           5223.022\n",
            "Time:                        10:33:10   BIC                           5241.196\n",
            "Sample:                             0   HQIC                          5230.312\n",
            "                                - 282                                         \n",
            "Covariance Type:                  opg                                         \n",
            "==============================================================================\n",
            "                 coef    std err          z      P>|z|      [0.025      0.975]\n",
            "------------------------------------------------------------------------------\n",
            "ar.L1          0.5830      0.032     18.175      0.000       0.520       0.646\n",
            "ar.L2         -0.3975      0.043     -9.278      0.000      -0.481      -0.313\n",
            "ma.L1         -1.7669      0.026    -67.419      0.000      -1.818      -1.715\n",
            "ma.L2          0.8434      0.024     34.825      0.000       0.796       0.891\n",
            "sigma2      7.044e+06    2.8e-10   2.52e+16      0.000    7.04e+06    7.04e+06\n",
            "===================================================================================\n",
            "Ljung-Box (Q):                      429.76   Jarque-Bera (JB):              1680.39\n",
            "Prob(Q):                              0.00   Prob(JB):                         0.00\n",
            "Heteroskedasticity (H):            4934.20   Skew:                            -1.76\n",
            "Prob(H) (two-sided):                  0.00   Kurtosis:                        14.48\n",
            "===================================================================================\n",
            "\n",
            "Warnings:\n",
            "[1] Covariance matrix calculated using the outer product of gradients (complex-step).\n",
            "[2] Covariance matrix is singular or near-singular, with condition number 1.81e+32. Standard errors may be unstable.\n",
            "Performing stepwise search to minimize aic\n",
            " ARIMA(0,1,0)(0,0,0)[0] intercept   : AIC=4099.033, Time=0.02 sec\n",
            " ARIMA(1,1,0)(0,0,0)[0] intercept   : AIC=4095.927, Time=0.04 sec\n",
            " ARIMA(0,1,1)(0,0,0)[0] intercept   : AIC=4097.586, Time=0.05 sec\n",
            " ARIMA(0,1,0)(0,0,0)[0]             : AIC=4100.703, Time=0.01 sec\n",
            " ARIMA(2,1,0)(0,0,0)[0] intercept   : AIC=4085.675, Time=0.07 sec\n",
            " ARIMA(3,1,0)(0,0,0)[0] intercept   : AIC=4084.211, Time=0.07 sec\n",
            " ARIMA(4,1,0)(0,0,0)[0] intercept   : AIC=4082.577, Time=0.10 sec\n",
            " ARIMA(5,1,0)(0,0,0)[0] intercept   : AIC=4084.157, Time=0.12 sec\n",
            " ARIMA(4,1,1)(0,0,0)[0] intercept   : AIC=4076.855, Time=0.61 sec\n",
            " ARIMA(3,1,1)(0,0,0)[0] intercept   : AIC=4075.228, Time=0.62 sec\n",
            " ARIMA(2,1,1)(0,0,0)[0] intercept   : AIC=4073.317, Time=0.45 sec\n",
            " ARIMA(1,1,1)(0,0,0)[0] intercept   : AIC=4092.343, Time=0.33 sec\n",
            " ARIMA(2,1,2)(0,0,0)[0] intercept   : AIC=4075.192, Time=0.63 sec\n",
            " ARIMA(1,1,2)(0,0,0)[0] intercept   : AIC=4075.315, Time=0.53 sec\n"
          ],
          "name": "stdout"
        },
        {
          "output_type": "stream",
          "text": [
            "/usr/local/lib/python3.6/dist-packages/statsmodels/tsa/statespace/sarimax.py:963: UserWarning: Non-stationary starting autoregressive parameters found. Using zeros as starting parameters.\n",
            "  warn('Non-stationary starting autoregressive parameters'\n",
            "/usr/local/lib/python3.6/dist-packages/statsmodels/tsa/statespace/sarimax.py:975: UserWarning: Non-invertible starting MA parameters found. Using zeros as starting parameters.\n",
            "  warn('Non-invertible starting MA parameters found.'\n",
            "/usr/local/lib/python3.6/dist-packages/statsmodels/base/model.py:568: ConvergenceWarning: Maximum Likelihood optimization failed to converge. Check mle_retvals\n",
            "  \"Check mle_retvals\", ConvergenceWarning)\n"
          ],
          "name": "stderr"
        },
        {
          "output_type": "stream",
          "text": [
            " ARIMA(3,1,2)(0,0,0)[0] intercept   : AIC=inf, Time=0.74 sec\n",
            " ARIMA(2,1,1)(0,0,0)[0]             : AIC=4072.408, Time=0.16 sec\n",
            " ARIMA(1,1,1)(0,0,0)[0]             : AIC=4094.923, Time=0.14 sec\n",
            " ARIMA(2,1,0)(0,0,0)[0]             : AIC=4086.807, Time=0.03 sec\n",
            " ARIMA(3,1,1)(0,0,0)[0]             : AIC=4074.309, Time=0.23 sec\n",
            " ARIMA(2,1,2)(0,0,0)[0]             : AIC=4074.270, Time=0.20 sec\n",
            " ARIMA(1,1,0)(0,0,0)[0]             : AIC=4098.712, Time=0.02 sec\n",
            " ARIMA(1,1,2)(0,0,0)[0]             : AIC=4074.451, Time=0.17 sec\n",
            " ARIMA(3,1,0)(0,0,0)[0]             : AIC=4084.742, Time=0.04 sec\n"
          ],
          "name": "stdout"
        },
        {
          "output_type": "stream",
          "text": [
            "/usr/local/lib/python3.6/dist-packages/statsmodels/tsa/statespace/sarimax.py:963: UserWarning: Non-stationary starting autoregressive parameters found. Using zeros as starting parameters.\n",
            "  warn('Non-stationary starting autoregressive parameters'\n",
            "/usr/local/lib/python3.6/dist-packages/statsmodels/tsa/statespace/sarimax.py:975: UserWarning: Non-invertible starting MA parameters found. Using zeros as starting parameters.\n",
            "  warn('Non-invertible starting MA parameters found.'\n"
          ],
          "name": "stderr"
        },
        {
          "output_type": "stream",
          "text": [
            " ARIMA(3,1,2)(0,0,0)[0]             : AIC=4075.986, Time=0.32 sec\n",
            "\n",
            "Best model:  ARIMA(2,1,1)(0,0,0)[0]          \n",
            "Total fit time: 5.708 seconds\n",
            "                               SARIMAX Results                                \n",
            "==============================================================================\n",
            "Dep. Variable:                      y   No. Observations:                  283\n",
            "Model:               SARIMAX(2, 1, 1)   Log Likelihood               -2032.204\n",
            "Date:                Mon, 12 Oct 2020   AIC                           4072.408\n",
            "Time:                        10:33:16   BIC                           4086.976\n",
            "Sample:                             0   HQIC                          4078.250\n",
            "                                - 283                                         \n",
            "Covariance Type:                  opg                                         \n",
            "==============================================================================\n",
            "                 coef    std err          z      P>|z|      [0.025      0.975]\n",
            "------------------------------------------------------------------------------\n",
            "ar.L1          0.6301      0.044     14.396      0.000       0.544       0.716\n",
            "ar.L2          0.3011      0.031      9.631      0.000       0.240       0.362\n",
            "ma.L1         -0.8135      0.039    -21.117      0.000      -0.889      -0.738\n",
            "sigma2      1.062e+05   3994.896     26.591      0.000    9.84e+04    1.14e+05\n",
            "===================================================================================\n",
            "Ljung-Box (Q):                       80.94   Jarque-Bera (JB):               895.66\n",
            "Prob(Q):                              0.00   Prob(JB):                         0.00\n",
            "Heteroskedasticity (H):              39.69   Skew:                            -0.61\n",
            "Prob(H) (two-sided):                  0.00   Kurtosis:                        11.65\n",
            "===================================================================================\n",
            "\n",
            "Warnings:\n",
            "[1] Covariance matrix calculated using the outer product of gradients (complex-step).\n",
            "Performing stepwise search to minimize bic\n",
            " ARIMA(0,1,0)(0,0,0)[0] intercept   : BIC=2882.946, Time=0.01 sec\n",
            " ARIMA(1,1,0)(0,0,0)[0] intercept   : BIC=2888.017, Time=0.03 sec\n",
            " ARIMA(0,1,1)(0,0,0)[0] intercept   : BIC=2887.884, Time=0.10 sec\n",
            " ARIMA(0,1,0)(0,0,0)[0]             : BIC=2877.815, Time=0.01 sec\n",
            " ARIMA(1,1,1)(0,0,0)[0] intercept   : BIC=2893.415, Time=0.17 sec\n",
            "\n",
            "Best model:  ARIMA(0,1,0)(0,0,0)[0]          \n",
            "Total fit time: 0.321 seconds\n",
            "                               SARIMAX Results                                \n",
            "==============================================================================\n",
            "Dep. Variable:                      y   No. Observations:                  209\n",
            "Model:               SARIMAX(0, 1, 0)   Log Likelihood               -1436.239\n",
            "Date:                Mon, 12 Oct 2020   AIC                           2874.477\n",
            "Time:                        10:33:17   BIC                           2877.815\n",
            "Sample:                             0   HQIC                          2875.827\n",
            "                                - 209                                         \n",
            "Covariance Type:                  opg                                         \n",
            "==============================================================================\n",
            "                 coef    std err          z      P>|z|      [0.025      0.975]\n",
            "------------------------------------------------------------------------------\n",
            "sigma2      5.823e+04   2286.645     25.465      0.000    5.37e+04    6.27e+04\n",
            "===================================================================================\n",
            "Ljung-Box (Q):                       87.58   Jarque-Bera (JB):               966.50\n",
            "Prob(Q):                              0.00   Prob(JB):                         0.00\n",
            "Heteroskedasticity (H):               0.06   Skew:                            -0.36\n",
            "Prob(H) (two-sided):                  0.00   Kurtosis:                        13.54\n",
            "===================================================================================\n",
            "\n",
            "Warnings:\n",
            "[1] Covariance matrix calculated using the outer product of gradients (complex-step).\n",
            "Performing stepwise search to minimize aic\n",
            " ARIMA(0,1,0)(0,0,0)[0] intercept   : AIC=5700.966, Time=0.02 sec\n",
            " ARIMA(1,1,0)(0,0,0)[0] intercept   : AIC=5682.065, Time=0.03 sec\n",
            " ARIMA(0,1,1)(0,0,0)[0] intercept   : AIC=5659.221, Time=0.06 sec\n",
            " ARIMA(0,1,0)(0,0,0)[0]             : AIC=5699.205, Time=0.01 sec\n",
            " ARIMA(1,1,1)(0,0,0)[0] intercept   : AIC=5652.763, Time=0.10 sec\n"
          ],
          "name": "stdout"
        },
        {
          "output_type": "stream",
          "text": [
            "/usr/local/lib/python3.6/dist-packages/statsmodels/tsa/statespace/sarimax.py:975: UserWarning: Non-invertible starting MA parameters found. Using zeros as starting parameters.\n",
            "  warn('Non-invertible starting MA parameters found.'\n"
          ],
          "name": "stderr"
        },
        {
          "output_type": "stream",
          "text": [
            " ARIMA(2,1,1)(0,0,0)[0] intercept   : AIC=5650.286, Time=0.23 sec\n",
            " ARIMA(2,1,0)(0,0,0)[0] intercept   : AIC=5672.580, Time=0.05 sec\n",
            " ARIMA(3,1,1)(0,0,0)[0] intercept   : AIC=5644.276, Time=0.17 sec\n",
            " ARIMA(3,1,0)(0,0,0)[0] intercept   : AIC=5658.377, Time=0.07 sec\n",
            " ARIMA(4,1,1)(0,0,0)[0] intercept   : AIC=5642.422, Time=0.18 sec\n",
            " ARIMA(4,1,0)(0,0,0)[0] intercept   : AIC=5654.699, Time=0.08 sec\n",
            " ARIMA(5,1,1)(0,0,0)[0] intercept   : AIC=5616.651, Time=0.25 sec\n",
            " ARIMA(5,1,0)(0,0,0)[0] intercept   : AIC=5617.232, Time=0.12 sec\n"
          ],
          "name": "stdout"
        },
        {
          "output_type": "stream",
          "text": [
            "/usr/local/lib/python3.6/dist-packages/statsmodels/tsa/statespace/sarimax.py:963: UserWarning: Non-stationary starting autoregressive parameters found. Using zeros as starting parameters.\n",
            "  warn('Non-stationary starting autoregressive parameters'\n",
            "/usr/local/lib/python3.6/dist-packages/statsmodels/tsa/statespace/sarimax.py:975: UserWarning: Non-invertible starting MA parameters found. Using zeros as starting parameters.\n",
            "  warn('Non-invertible starting MA parameters found.'\n"
          ],
          "name": "stderr"
        },
        {
          "output_type": "stream",
          "text": [
            " ARIMA(5,1,2)(0,0,0)[0] intercept   : AIC=5573.967, Time=1.19 sec\n"
          ],
          "name": "stdout"
        },
        {
          "output_type": "stream",
          "text": [
            "/usr/local/lib/python3.6/dist-packages/statsmodels/tsa/statespace/sarimax.py:963: UserWarning: Non-stationary starting autoregressive parameters found. Using zeros as starting parameters.\n",
            "  warn('Non-stationary starting autoregressive parameters'\n",
            "/usr/local/lib/python3.6/dist-packages/statsmodels/tsa/statespace/sarimax.py:975: UserWarning: Non-invertible starting MA parameters found. Using zeros as starting parameters.\n",
            "  warn('Non-invertible starting MA parameters found.'\n"
          ],
          "name": "stderr"
        },
        {
          "output_type": "stream",
          "text": [
            " ARIMA(4,1,2)(0,0,0)[0] intercept   : AIC=5584.551, Time=0.81 sec\n"
          ],
          "name": "stdout"
        },
        {
          "output_type": "stream",
          "text": [
            "/usr/local/lib/python3.6/dist-packages/statsmodels/tsa/statespace/sarimax.py:963: UserWarning: Non-stationary starting autoregressive parameters found. Using zeros as starting parameters.\n",
            "  warn('Non-stationary starting autoregressive parameters'\n",
            "/usr/local/lib/python3.6/dist-packages/statsmodels/tsa/statespace/sarimax.py:975: UserWarning: Non-invertible starting MA parameters found. Using zeros as starting parameters.\n",
            "  warn('Non-invertible starting MA parameters found.'\n",
            "/usr/local/lib/python3.6/dist-packages/statsmodels/base/model.py:568: ConvergenceWarning: Maximum Likelihood optimization failed to converge. Check mle_retvals\n",
            "  \"Check mle_retvals\", ConvergenceWarning)\n",
            "/usr/local/lib/python3.6/dist-packages/statsmodels/tsa/statespace/sarimax.py:975: UserWarning: Non-invertible starting MA parameters found. Using zeros as starting parameters.\n",
            "  warn('Non-invertible starting MA parameters found.'\n"
          ],
          "name": "stderr"
        },
        {
          "output_type": "stream",
          "text": [
            " ARIMA(5,1,3)(0,0,0)[0] intercept   : AIC=5566.416, Time=1.30 sec\n"
          ],
          "name": "stdout"
        },
        {
          "output_type": "stream",
          "text": [
            "/usr/local/lib/python3.6/dist-packages/statsmodels/base/model.py:568: ConvergenceWarning: Maximum Likelihood optimization failed to converge. Check mle_retvals\n",
            "  \"Check mle_retvals\", ConvergenceWarning)\n"
          ],
          "name": "stderr"
        },
        {
          "output_type": "stream",
          "text": [
            " ARIMA(4,1,3)(0,0,0)[0] intercept   : AIC=5582.869, Time=1.11 sec\n"
          ],
          "name": "stdout"
        },
        {
          "output_type": "stream",
          "text": [
            "/usr/local/lib/python3.6/dist-packages/statsmodels/base/model.py:568: ConvergenceWarning: Maximum Likelihood optimization failed to converge. Check mle_retvals\n",
            "  \"Check mle_retvals\", ConvergenceWarning)\n"
          ],
          "name": "stderr"
        },
        {
          "output_type": "stream",
          "text": [
            " ARIMA(5,1,4)(0,0,0)[0] intercept   : AIC=5558.007, Time=1.40 sec\n"
          ],
          "name": "stdout"
        },
        {
          "output_type": "stream",
          "text": [
            "/usr/local/lib/python3.6/dist-packages/statsmodels/base/model.py:568: ConvergenceWarning: Maximum Likelihood optimization failed to converge. Check mle_retvals\n",
            "  \"Check mle_retvals\", ConvergenceWarning)\n",
            "/usr/local/lib/python3.6/dist-packages/statsmodels/tsa/statespace/sarimax.py:975: UserWarning: Non-invertible starting MA parameters found. Using zeros as starting parameters.\n",
            "  warn('Non-invertible starting MA parameters found.'\n"
          ],
          "name": "stderr"
        },
        {
          "output_type": "stream",
          "text": [
            " ARIMA(4,1,4)(0,0,0)[0] intercept   : AIC=5591.264, Time=1.35 sec\n"
          ],
          "name": "stdout"
        },
        {
          "output_type": "stream",
          "text": [
            "/usr/local/lib/python3.6/dist-packages/statsmodels/base/model.py:568: ConvergenceWarning: Maximum Likelihood optimization failed to converge. Check mle_retvals\n",
            "  \"Check mle_retvals\", ConvergenceWarning)\n"
          ],
          "name": "stderr"
        },
        {
          "output_type": "stream",
          "text": [
            " ARIMA(5,1,5)(0,0,0)[0] intercept   : AIC=5552.239, Time=1.78 sec\n"
          ],
          "name": "stdout"
        },
        {
          "output_type": "stream",
          "text": [
            "/usr/local/lib/python3.6/dist-packages/statsmodels/base/model.py:568: ConvergenceWarning: Maximum Likelihood optimization failed to converge. Check mle_retvals\n",
            "  \"Check mle_retvals\", ConvergenceWarning)\n",
            "/usr/local/lib/python3.6/dist-packages/statsmodels/tsa/statespace/sarimax.py:975: UserWarning: Non-invertible starting MA parameters found. Using zeros as starting parameters.\n",
            "  warn('Non-invertible starting MA parameters found.'\n"
          ],
          "name": "stderr"
        },
        {
          "output_type": "stream",
          "text": [
            " ARIMA(4,1,5)(0,0,0)[0] intercept   : AIC=5588.806, Time=1.66 sec\n",
            " ARIMA(5,1,5)(0,0,0)[0]             : AIC=5554.273, Time=1.56 sec\n",
            "\n",
            "Best model:  ARIMA(5,1,5)(0,0,0)[0] intercept\n",
            "Total fit time: 13.553 seconds\n",
            "                               SARIMAX Results                                \n",
            "==============================================================================\n",
            "Dep. Variable:                      y   No. Observations:                  283\n",
            "Model:               SARIMAX(5, 1, 5)   Log Likelihood               -2764.120\n",
            "Date:                Mon, 12 Oct 2020   AIC                           5552.239\n",
            "Time:                        10:33:30   BIC                           5595.942\n",
            "Sample:                             0   HQIC                          5569.765\n",
            "                                - 283                                         \n",
            "Covariance Type:                  opg                                         \n",
            "==============================================================================\n",
            "                 coef    std err          z      P>|z|      [0.025      0.975]\n",
            "------------------------------------------------------------------------------\n",
            "intercept    360.7395    320.068      1.127      0.260    -266.583     988.062\n",
            "ar.L1          0.4693      0.130      3.601      0.000       0.214       0.725\n",
            "ar.L2         -1.1366      0.113    -10.042      0.000      -1.358      -0.915\n",
            "ar.L3          0.3256      0.185      1.758      0.079      -0.037       0.689\n",
            "ar.L4         -0.7123      0.109     -6.533      0.000      -0.926      -0.499\n",
            "ar.L5         -0.3162      0.116     -2.732      0.006      -0.543      -0.089\n",
            "ma.L1         -1.0848      0.126     -8.610      0.000      -1.332      -0.838\n",
            "ma.L2          1.4304      0.153      9.373      0.000       1.131       1.730\n",
            "ma.L3         -1.0976      0.201     -5.447      0.000      -1.493      -0.703\n",
            "ma.L4          0.9890      0.149      6.657      0.000       0.698       1.280\n",
            "ma.L5         -0.2187      0.113     -1.943      0.052      -0.439       0.002\n",
            "sigma2      2.044e+07      0.007   2.78e+09      0.000    2.04e+07    2.04e+07\n",
            "===================================================================================\n",
            "Ljung-Box (Q):                       58.32   Jarque-Bera (JB):               370.24\n",
            "Prob(Q):                              0.03   Prob(JB):                         0.00\n",
            "Heteroskedasticity (H):              14.16   Skew:                             0.33\n",
            "Prob(H) (two-sided):                  0.00   Kurtosis:                         8.57\n",
            "===================================================================================\n",
            "\n",
            "Warnings:\n",
            "[1] Covariance matrix calculated using the outer product of gradients (complex-step).\n",
            "[2] Covariance matrix is singular or near-singular, with condition number 8.27e+24. Standard errors may be unstable.\n"
          ],
          "name": "stdout"
        },
        {
          "output_type": "stream",
          "text": [
            "/usr/local/lib/python3.6/dist-packages/statsmodels/base/model.py:568: ConvergenceWarning: Maximum Likelihood optimization failed to converge. Check mle_retvals\n",
            "  \"Check mle_retvals\", ConvergenceWarning)\n"
          ],
          "name": "stderr"
        }
      ]
    },
    {
      "cell_type": "code",
      "metadata": {
        "id": "qvrvxYlkq70d",
        "outputId": "21a07776-cb3d-4ade-b282-3817b42d6764",
        "colab": {
          "base_uri": "https://localhost:8080/",
          "height": 170
        }
      },
      "source": [
        "## output\n",
        "\n",
        "print(\"Model Prediction:\")\n",
        "print(ans)\n",
        "\n",
        "ans.to_csv('/content/output' , index=True )"
      ],
      "execution_count": null,
      "outputs": [
        {
          "output_type": "stream",
          "text": [
            "Model Prediction:\n",
            "       Greece  India  Russia  Turkey  United_States_of_America\n",
            "10/9      366  75759   11576    1581                     48507\n",
            "10/10     359  70819   11716    1581                     55395\n",
            "10/11     361  68283   11943    1581                     49237\n",
            "10/12     362  68014   12128    1581                     42093\n",
            "10/13     363  68110   12313    1581                     44803\n",
            "10/14     364  67518   12486    1581                     47542\n",
            "10/15     366  66381   12650    1581                     45989\n"
          ],
          "name": "stdout"
        }
      ]
    }
  ]
}